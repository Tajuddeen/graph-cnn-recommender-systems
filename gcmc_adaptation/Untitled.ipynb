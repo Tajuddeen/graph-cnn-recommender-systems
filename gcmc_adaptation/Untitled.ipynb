{
 "cells": [
  {
   "cell_type": "code",
   "execution_count": 1,
   "metadata": {},
   "outputs": [
    {
     "name": "stderr",
     "output_type": "stream",
     "text": [
      "C:\\Anaconda3\\lib\\site-packages\\h5py\\__init__.py:36: FutureWarning: Conversion of the second argument of issubdtype from `float` to `np.floating` is deprecated. In future, it will be treated as `np.float64 == np.dtype(float).type`.\n",
      "  from ._conv import register_converters as _register_converters\n"
     ]
    }
   ],
   "source": [
    "import numpy as np\n",
    "import scipy.sparse as sp\n",
    "# import cPickle as pkl\n",
    "import pickle as pkl\n",
    "import os\n",
    "import h5py\n",
    "import pandas as pd"
   ]
  },
  {
   "cell_type": "code",
   "execution_count": 2,
   "metadata": {},
   "outputs": [],
   "source": [
    "a = np.array([[0,0,0,0],[0,0,1,1],[0,1,0,0],[0,1,0,0]])"
   ]
  },
  {
   "cell_type": "code",
   "execution_count": 8,
   "metadata": {},
   "outputs": [],
   "source": [
    "nb_vertices = a.shape[0]\n",
    "W_coo = sp.coo_matrix(a)\n",
    "nb_edges = W_coo.nnz\n",
    "\n",
    "edge_to_starting_vertex = sp.coo_matrix( ( np.ones(nb_edges) ,(np.arange(nb_edges), W_coo.row) ),\n",
    "                                       shape=(nb_edges, nb_vertices) )\n",
    "edge_to_ending_vertex = sp.coo_matrix( ( np.ones(nb_edges) ,(np.arange(nb_edges), W_coo.col) ),\n",
    "                                       shape=(nb_edges, nb_vertices) )"
   ]
  },
  {
   "cell_type": "code",
   "execution_count": 24,
   "metadata": {},
   "outputs": [],
   "source": [
    "e_start = sp.coo_matrix.todense(edge_to_starting_vertex)"
   ]
  },
  {
   "cell_type": "code",
   "execution_count": 25,
   "metadata": {},
   "outputs": [],
   "source": [
    "e_end = sp.coo_matrix.todense(edge_to_ending_vertex)"
   ]
  },
  {
   "cell_type": "code",
   "execution_count": 26,
   "metadata": {},
   "outputs": [],
   "source": [
    "e_start[:,2:] = 0"
   ]
  },
  {
   "cell_type": "code",
   "execution_count": 27,
   "metadata": {},
   "outputs": [
    {
     "data": {
      "text/plain": [
       "matrix([[0., 1., 0., 0.],\n",
       "        [0., 1., 0., 0.],\n",
       "        [0., 0., 0., 0.],\n",
       "        [0., 0., 0., 0.]])"
      ]
     },
     "execution_count": 27,
     "metadata": {},
     "output_type": "execute_result"
    }
   ],
   "source": [
    "e_start"
   ]
  },
  {
   "cell_type": "code",
   "execution_count": 28,
   "metadata": {},
   "outputs": [],
   "source": [
    "e_start_coo = sp.coo_matrix(e_start)"
   ]
  },
  {
   "cell_type": "code",
   "execution_count": 29,
   "metadata": {},
   "outputs": [
    {
     "data": {
      "text/plain": [
       "matrix([[0., 1., 0., 0.],\n",
       "        [0., 1., 0., 0.],\n",
       "        [0., 0., 0., 0.],\n",
       "        [0., 0., 0., 0.]])"
      ]
     },
     "execution_count": 29,
     "metadata": {},
     "output_type": "execute_result"
    }
   ],
   "source": [
    "sp.coo_matrix.todense(e_start_coo)"
   ]
  },
  {
   "cell_type": "code",
   "execution_count": null,
   "metadata": {},
   "outputs": [],
   "source": []
  },
  {
   "cell_type": "code",
   "execution_count": null,
   "metadata": {},
   "outputs": [],
   "source": [
    "# check what range of values adj has\n",
    "adj = adj.toarray()  # adj.shape is 3000x3000 because it's users x items. but want it to be (users+items) x (users+items) for full adj matrix.\n",
    "n_users = adj.shape[0]\n",
    "n_items = adj.shape[1]\n",
    "n_total = n_users + n_items\n",
    "new_adj = np.zeros((n_total, n_total))\n",
    "new_adj[:n_users, n_users:n_users+n_items] = adj\n",
    "new_adj[n_users:n_users+n_items, :n_users] = adj.T\n",
    "adj = new_adj\n",
    "if separate:\n",
    "    unique_ratings = np.unique(adj)\n",
    "    print(unique_ratings)\n",
    "    print(len(unique_ratings))\n",
    "    nb_vertices = adj.shape[0]\n",
    "    E_start = []\n",
    "    E_end = []\n",
    "    for r in range(int(max(unique_ratings)) + 1): # to handle yahoo dataset where not all rating types are present in the training set\n",
    "        if r == 0:\n",
    "            continue\n",
    "        r_adj = np.where(adj == r, adj, np.zeros_like(adj))\n",
    "        r_adj /= r  # make entries ones\n",
    "        W_coo = sp.coo_matrix(r_adj)\n",
    "        nb_edges = W_coo.nnz\n",
    "\n",
    "        edge_to_starting_vertex = sp.coo_matrix( ( np.ones(nb_edges) ,(np.arange(nb_edges), W_coo.row) ),\n",
    "                                               shape=(nb_edges, nb_vertices) )\n",
    "        edge_to_ending_vertex = sp.coo_matrix( ( np.ones(nb_edges) ,(np.arange(nb_edges), W_coo.col) ),\n",
    "                                               shape=(nb_edges, nb_vertices) )\n",
    "        E_start.append(edge_to_starting_vertex)\n",
    "        E_end.append(edge_to_ending_vertex)\n",
    "    return E_start, E_end\n"
   ]
  }
 ],
 "metadata": {
  "kernelspec": {
   "display_name": "Python 3",
   "language": "python",
   "name": "python3"
  },
  "language_info": {
   "codemirror_mode": {
    "name": "ipython",
    "version": 3
   },
   "file_extension": ".py",
   "mimetype": "text/x-python",
   "name": "python",
   "nbconvert_exporter": "python",
   "pygments_lexer": "ipython3",
   "version": "3.6.5"
  }
 },
 "nbformat": 4,
 "nbformat_minor": 2
}
