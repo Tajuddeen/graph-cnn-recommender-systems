{
 "cells": [
  {
   "cell_type": "code",
   "execution_count": 2,
   "metadata": {},
   "outputs": [],
   "source": [
    "import matplotlib.pyplot as plt\n",
    "import pickle\n",
    "import numpy as np"
   ]
  },
  {
   "cell_type": "code",
   "execution_count": 16,
   "metadata": {},
   "outputs": [],
   "source": [
    "epochs = 300\n",
    "DO = 0.5\n",
    "hidden = [75, 50]\n",
    "layers = 3\n",
    "old = False"
   ]
  },
  {
   "cell_type": "code",
   "execution_count": 17,
   "metadata": {},
   "outputs": [],
   "source": [
    "file_name = '{}_epochs-{}_DO-{}_hidden-{}_layers.pkl'.format(epochs, DO, hidden, layers)\n",
    "results = pickle.load(open('results/'+file_name, 'rb'))"
   ]
  },
  {
   "cell_type": "code",
   "execution_count": 18,
   "metadata": {},
   "outputs": [
    {
     "data": {
      "image/png": "[encoded data removed]",
      "text/plain": [
       "<Figure size 432x288 with 1 Axes>"
      ]
     },
     "metadata": {},
     "output_type": "display_data"
    }
   ],
   "source": [
    "if old:\n",
    "    plt.plot(results['train_rmses'])\n",
    "    plt.plot(results['val_rmses'])\n",
    "else:\n",
    "    plt.plot(results['train_rmses'][0])\n",
    "    plt.plot(results['val_rmses'][0])"
   ]
  },
  {
   "cell_type": "code",
   "execution_count": 19,
   "metadata": {},
   "outputs": [
    {
     "name": "stdout",
     "output_type": "stream",
     "text": [
      "[0.7460917, 0.7482288, 0.74616563, 0.7468143, 0.7461412]\n",
      "[0.73965824 0.74012995 0.7394861  0.7404087  0.7395876 ]\n"
     ]
    }
   ],
   "source": [
    "print(results['val_rmse'])\n",
    "print(np.atleast_2d(np.array(results['val_rmses'])).min(1))"
   ]
  },
  {
   "cell_type": "code",
   "execution_count": 20,
   "metadata": {},
   "outputs": [
    {
     "name": "stdout",
     "output_type": "stream",
     "text": [
      "0.7466883301734925\n"
     ]
    }
   ],
   "source": [
    "print(sum(results['val_rmse'])/len(results['val_rmse']))"
   ]
  },
  {
   "cell_type": "code",
   "execution_count": null,
   "metadata": {},
   "outputs": [],
   "source": []
  }
 ],
 "metadata": {
  "kernelspec": {
   "display_name": "Python 3",
   "language": "python",
   "name": "python3"
  },
  "language_info": {
   "codemirror_mode": {
    "name": "ipython",
    "version": 3
   },
   "file_extension": ".py",
   "mimetype": "text/x-python",
   "name": "python",
   "nbconvert_exporter": "python",
   "pygments_lexer": "ipython3",
   "version": "3.6.5"
  }
 },
 "nbformat": 4,
 "nbformat_minor": 2
}
